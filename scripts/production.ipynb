{
 "cells": [
  {
   "cell_type": "code",
   "execution_count": 1,
   "metadata": {},
   "outputs": [],
   "source": [
    "import pandas as pd\n",
    "import re"
   ]
  },
  {
   "cell_type": "code",
   "execution_count": 2,
   "metadata": {},
   "outputs": [],
   "source": [
    "# Thousands of tones\n",
    "pbi_fish = pd.read_excel( r\"G:\\My Drive\\unfv\\raw_data\\data_pesca_production.xlsx\" )"
   ]
  },
  {
   "cell_type": "code",
   "execution_count": 3,
   "metadata": {
    "scrolled": true
   },
   "outputs": [
    {
     "data": {
      "text/html": [
       "<div>\n",
       "<style scoped>\n",
       "    .dataframe tbody tr th:only-of-type {\n",
       "        vertical-align: middle;\n",
       "    }\n",
       "\n",
       "    .dataframe tbody tr th {\n",
       "        vertical-align: top;\n",
       "    }\n",
       "\n",
       "    .dataframe thead th {\n",
       "        text-align: right;\n",
       "    }\n",
       "</style>\n",
       "<table border=\"1\" class=\"dataframe\">\n",
       "  <thead>\n",
       "    <tr style=\"text-align: right;\">\n",
       "      <th></th>\n",
       "      <th>Unnamed: 0</th>\n",
       "      <th>PM05100AA</th>\n",
       "      <th>PM05116AA</th>\n",
       "      <th>PM05117AA</th>\n",
       "      <th>PM05118AA</th>\n",
       "      <th>PM05119AA</th>\n",
       "      <th>PM05120AA</th>\n",
       "      <th>PM05122AA</th>\n",
       "      <th>PM05123AA</th>\n",
       "      <th>PM05124AA</th>\n",
       "      <th>PM05125AA</th>\n",
       "      <th>PM05127AA</th>\n",
       "      <th>PM05128AA</th>\n",
       "      <th>PM05129AA</th>\n",
       "      <th>PM05130AA</th>\n",
       "    </tr>\n",
       "  </thead>\n",
       "  <tbody>\n",
       "    <tr>\n",
       "      <th>0</th>\n",
       "      <td>NaN</td>\n",
       "      <td>Extracción pesquera marítima por destino y pri...</td>\n",
       "      <td>Extracción pesquera marítima por destino y pri...</td>\n",
       "      <td>Extracción pesquera marítima por destino y pri...</td>\n",
       "      <td>Extracción pesquera marítima por destino y pri...</td>\n",
       "      <td>Extracción pesquera marítima por destino y pri...</td>\n",
       "      <td>Extracción pesquera marítima por destino y pri...</td>\n",
       "      <td>Extracción pesquera marítima por destino y pri...</td>\n",
       "      <td>Extracción pesquera marítima por destino y pri...</td>\n",
       "      <td>Extracción pesquera marítima por destino y pri...</td>\n",
       "      <td>Extracción pesquera marítima por destino y pri...</td>\n",
       "      <td>Extracción pesquera marítima por destino y pri...</td>\n",
       "      <td>Extracción pesquera marítima por destino y pri...</td>\n",
       "      <td>Extracción pesquera marítima por destino y pri...</td>\n",
       "      <td>Extracción pesquera marítima por destino y pri...</td>\n",
       "    </tr>\n",
       "    <tr>\n",
       "      <th>1</th>\n",
       "      <td>1980.0</td>\n",
       "      <td>n.d.</td>\n",
       "      <td>n.d.</td>\n",
       "      <td>n.d.</td>\n",
       "      <td>n.d.</td>\n",
       "      <td>n.d.</td>\n",
       "      <td>n.d.</td>\n",
       "      <td>n.d.</td>\n",
       "      <td>n.d.</td>\n",
       "      <td>n.d.</td>\n",
       "      <td>n.d.</td>\n",
       "      <td>n.d.</td>\n",
       "      <td>n.d.</td>\n",
       "      <td>n.d.</td>\n",
       "      <td>n.d.</td>\n",
       "    </tr>\n",
       "    <tr>\n",
       "      <th>2</th>\n",
       "      <td>1981.0</td>\n",
       "      <td>n.d.</td>\n",
       "      <td>n.d.</td>\n",
       "      <td>n.d.</td>\n",
       "      <td>n.d.</td>\n",
       "      <td>n.d.</td>\n",
       "      <td>n.d.</td>\n",
       "      <td>n.d.</td>\n",
       "      <td>n.d.</td>\n",
       "      <td>n.d.</td>\n",
       "      <td>n.d.</td>\n",
       "      <td>n.d.</td>\n",
       "      <td>n.d.</td>\n",
       "      <td>n.d.</td>\n",
       "      <td>n.d.</td>\n",
       "    </tr>\n",
       "  </tbody>\n",
       "</table>\n",
       "</div>"
      ],
      "text/plain": [
       "   Unnamed: 0                                          PM05100AA  \\\n",
       "0         NaN  Extracción pesquera marítima por destino y pri...   \n",
       "1      1980.0                                               n.d.   \n",
       "2      1981.0                                               n.d.   \n",
       "\n",
       "                                           PM05116AA  \\\n",
       "0  Extracción pesquera marítima por destino y pri...   \n",
       "1                                               n.d.   \n",
       "2                                               n.d.   \n",
       "\n",
       "                                           PM05117AA  \\\n",
       "0  Extracción pesquera marítima por destino y pri...   \n",
       "1                                               n.d.   \n",
       "2                                               n.d.   \n",
       "\n",
       "                                           PM05118AA  \\\n",
       "0  Extracción pesquera marítima por destino y pri...   \n",
       "1                                               n.d.   \n",
       "2                                               n.d.   \n",
       "\n",
       "                                           PM05119AA  \\\n",
       "0  Extracción pesquera marítima por destino y pri...   \n",
       "1                                               n.d.   \n",
       "2                                               n.d.   \n",
       "\n",
       "                                           PM05120AA  \\\n",
       "0  Extracción pesquera marítima por destino y pri...   \n",
       "1                                               n.d.   \n",
       "2                                               n.d.   \n",
       "\n",
       "                                           PM05122AA  \\\n",
       "0  Extracción pesquera marítima por destino y pri...   \n",
       "1                                               n.d.   \n",
       "2                                               n.d.   \n",
       "\n",
       "                                           PM05123AA  \\\n",
       "0  Extracción pesquera marítima por destino y pri...   \n",
       "1                                               n.d.   \n",
       "2                                               n.d.   \n",
       "\n",
       "                                           PM05124AA  \\\n",
       "0  Extracción pesquera marítima por destino y pri...   \n",
       "1                                               n.d.   \n",
       "2                                               n.d.   \n",
       "\n",
       "                                           PM05125AA  \\\n",
       "0  Extracción pesquera marítima por destino y pri...   \n",
       "1                                               n.d.   \n",
       "2                                               n.d.   \n",
       "\n",
       "                                           PM05127AA  \\\n",
       "0  Extracción pesquera marítima por destino y pri...   \n",
       "1                                               n.d.   \n",
       "2                                               n.d.   \n",
       "\n",
       "                                           PM05128AA  \\\n",
       "0  Extracción pesquera marítima por destino y pri...   \n",
       "1                                               n.d.   \n",
       "2                                               n.d.   \n",
       "\n",
       "                                           PM05129AA  \\\n",
       "0  Extracción pesquera marítima por destino y pri...   \n",
       "1                                               n.d.   \n",
       "2                                               n.d.   \n",
       "\n",
       "                                           PM05130AA  \n",
       "0  Extracción pesquera marítima por destino y pri...  \n",
       "1                                               n.d.  \n",
       "2                                               n.d.  "
      ]
     },
     "execution_count": 3,
     "metadata": {},
     "output_type": "execute_result"
    }
   ],
   "source": [
    "pbi_fish.head(3)"
   ]
  },
  {
   "cell_type": "code",
   "execution_count": 4,
   "metadata": {},
   "outputs": [],
   "source": [
    "# Cleaning data\n",
    "pbi_fish = pbi_fish.loc[ pbi_fish[ 'PM05100AA' ] != 'n.d.' ]\n",
    "\n",
    "# It makes changes in the same object\n",
    "pbi_fish = pbi_fish.drop( [ 'PM05100AA' ], axis = 1 )"
   ]
  },
  {
   "cell_type": "code",
   "execution_count": 5,
   "metadata": {
    "scrolled": true
   },
   "outputs": [],
   "source": [
    "# Making the header\n",
    "\n",
    "new_header = pbi_fish.iloc[0, :].str.split('- ', 1,  expand = True )[ 1 ].to_list()\n",
    "\n",
    "new_header[ 0 ] = 'year'"
   ]
  },
  {
   "cell_type": "code",
   "execution_count": 6,
   "metadata": {},
   "outputs": [],
   "source": [
    "pbi_fish = pbi_fish[1:] #take the data less the header row\n",
    "pbi_fish.columns = new_header #set the header row as the df header"
   ]
  },
  {
   "cell_type": "code",
   "execution_count": 7,
   "metadata": {},
   "outputs": [
    {
     "data": {
      "text/html": [
       "<div>\n",
       "<style scoped>\n",
       "    .dataframe tbody tr th:only-of-type {\n",
       "        vertical-align: middle;\n",
       "    }\n",
       "\n",
       "    .dataframe tbody tr th {\n",
       "        vertical-align: top;\n",
       "    }\n",
       "\n",
       "    .dataframe thead th {\n",
       "        text-align: right;\n",
       "    }\n",
       "</style>\n",
       "<table border=\"1\" class=\"dataframe\">\n",
       "  <thead>\n",
       "    <tr style=\"text-align: right;\">\n",
       "      <th></th>\n",
       "      <th>year</th>\n",
       "      <th>Consumo Industrial - Anchoveta</th>\n",
       "      <th>Consumo Humano - Congelado - Concha de abanico</th>\n",
       "      <th>Consumo Humano - Congelado - Langostino</th>\n",
       "      <th>Consumo Humano - Congelado - Merluza</th>\n",
       "      <th>Consumo Humano - Congelado - Calamar gigante</th>\n",
       "      <th>Consumo Humano - Conservas - Atún</th>\n",
       "      <th>Consumo Humano - Conservas - Caballa</th>\n",
       "      <th>Consumo Humano - Conservas - Jurel</th>\n",
       "      <th>Consumo Humano - Conservas - Sardina</th>\n",
       "      <th>Consumo Humano - Fresco - Concha de abanico</th>\n",
       "      <th>Consumo Humano - Fresco - Jurel</th>\n",
       "      <th>Consumo Humano - Fresco - Liza</th>\n",
       "      <th>Consumo Humano - Fresco - Tollo</th>\n",
       "    </tr>\n",
       "  </thead>\n",
       "  <tbody>\n",
       "    <tr>\n",
       "      <th>26</th>\n",
       "      <td>2005.0</td>\n",
       "      <td>8628.4</td>\n",
       "      <td>13.537</td>\n",
       "      <td>9.021</td>\n",
       "      <td>23.279</td>\n",
       "      <td>235.63</td>\n",
       "      <td>9.877</td>\n",
       "      <td>25.711</td>\n",
       "      <td>20.481</td>\n",
       "      <td>0.165</td>\n",
       "      <td>1.84308</td>\n",
       "      <td>56.1679</td>\n",
       "      <td>5.8756</td>\n",
       "      <td>0.43</td>\n",
       "    </tr>\n",
       "    <tr>\n",
       "      <th>27</th>\n",
       "      <td>2006.0</td>\n",
       "      <td>5891.84</td>\n",
       "      <td>14.714</td>\n",
       "      <td>11.295</td>\n",
       "      <td>25.189</td>\n",
       "      <td>365.729</td>\n",
       "      <td>11.336</td>\n",
       "      <td>58.245</td>\n",
       "      <td>122.904</td>\n",
       "      <td>0.048</td>\n",
       "      <td>4.048</td>\n",
       "      <td>136.827</td>\n",
       "      <td>3.166</td>\n",
       "      <td>1.584</td>\n",
       "    </tr>\n",
       "    <tr>\n",
       "      <th>28</th>\n",
       "      <td>2007.0</td>\n",
       "      <td>6084.71</td>\n",
       "      <td>19.937</td>\n",
       "      <td>13.548</td>\n",
       "      <td>28.3585</td>\n",
       "      <td>379.557</td>\n",
       "      <td>3.71329</td>\n",
       "      <td>26.2487</td>\n",
       "      <td>82.9103</td>\n",
       "      <td>0.00102</td>\n",
       "      <td>4.82299</td>\n",
       "      <td>134.887</td>\n",
       "      <td>9.31762</td>\n",
       "      <td>2.83496</td>\n",
       "    </tr>\n",
       "    <tr>\n",
       "      <th>29</th>\n",
       "      <td>2008.0</td>\n",
       "      <td>6159.39</td>\n",
       "      <td>18.79</td>\n",
       "      <td>12.817</td>\n",
       "      <td>26.3484</td>\n",
       "      <td>484.162</td>\n",
       "      <td>3.28371</td>\n",
       "      <td>47.6941</td>\n",
       "      <td>58.8642</td>\n",
       "      <td>0</td>\n",
       "      <td>0.828187</td>\n",
       "      <td>80.0929</td>\n",
       "      <td>14.5141</td>\n",
       "      <td>2.93336</td>\n",
       "    </tr>\n",
       "    <tr>\n",
       "      <th>30</th>\n",
       "      <td>2009.0</td>\n",
       "      <td>5828.64</td>\n",
       "      <td>24.6344</td>\n",
       "      <td>11.8774</td>\n",
       "      <td>36.7748</td>\n",
       "      <td>355.107</td>\n",
       "      <td>2.01706</td>\n",
       "      <td>51.3559</td>\n",
       "      <td>14.289</td>\n",
       "      <td>0</td>\n",
       "      <td>1.84307</td>\n",
       "      <td>47.0792</td>\n",
       "      <td>17.3113</td>\n",
       "      <td>4.05789</td>\n",
       "    </tr>\n",
       "  </tbody>\n",
       "</table>\n",
       "</div>"
      ],
      "text/plain": [
       "      year Consumo Industrial - Anchoveta  \\\n",
       "26  2005.0                         8628.4   \n",
       "27  2006.0                        5891.84   \n",
       "28  2007.0                        6084.71   \n",
       "29  2008.0                        6159.39   \n",
       "30  2009.0                        5828.64   \n",
       "\n",
       "   Consumo Humano - Congelado - Concha de abanico  \\\n",
       "26                                         13.537   \n",
       "27                                         14.714   \n",
       "28                                         19.937   \n",
       "29                                          18.79   \n",
       "30                                        24.6344   \n",
       "\n",
       "   Consumo Humano - Congelado - Langostino  \\\n",
       "26                                   9.021   \n",
       "27                                  11.295   \n",
       "28                                  13.548   \n",
       "29                                  12.817   \n",
       "30                                 11.8774   \n",
       "\n",
       "   Consumo Humano - Congelado - Merluza  \\\n",
       "26                               23.279   \n",
       "27                               25.189   \n",
       "28                              28.3585   \n",
       "29                              26.3484   \n",
       "30                              36.7748   \n",
       "\n",
       "   Consumo Humano - Congelado - Calamar gigante  \\\n",
       "26                                       235.63   \n",
       "27                                      365.729   \n",
       "28                                      379.557   \n",
       "29                                      484.162   \n",
       "30                                      355.107   \n",
       "\n",
       "   Consumo Humano - Conservas - Atún Consumo Humano - Conservas - Caballa  \\\n",
       "26                             9.877                               25.711   \n",
       "27                            11.336                               58.245   \n",
       "28                           3.71329                              26.2487   \n",
       "29                           3.28371                              47.6941   \n",
       "30                           2.01706                              51.3559   \n",
       "\n",
       "   Consumo Humano - Conservas - Jurel Consumo Humano - Conservas - Sardina  \\\n",
       "26                             20.481                                0.165   \n",
       "27                            122.904                                0.048   \n",
       "28                            82.9103                              0.00102   \n",
       "29                            58.8642                                    0   \n",
       "30                             14.289                                    0   \n",
       "\n",
       "   Consumo Humano - Fresco - Concha de abanico  \\\n",
       "26                                     1.84308   \n",
       "27                                       4.048   \n",
       "28                                     4.82299   \n",
       "29                                    0.828187   \n",
       "30                                     1.84307   \n",
       "\n",
       "   Consumo Humano - Fresco - Jurel Consumo Humano - Fresco - Liza  \\\n",
       "26                         56.1679                         5.8756   \n",
       "27                         136.827                          3.166   \n",
       "28                         134.887                        9.31762   \n",
       "29                         80.0929                        14.5141   \n",
       "30                         47.0792                        17.3113   \n",
       "\n",
       "   Consumo Humano - Fresco - Tollo  \n",
       "26                            0.43  \n",
       "27                           1.584  \n",
       "28                         2.83496  \n",
       "29                         2.93336  \n",
       "30                         4.05789  "
      ]
     },
     "execution_count": 7,
     "metadata": {},
     "output_type": "execute_result"
    }
   ],
   "source": [
    "pbi_fish.head()"
   ]
  },
  {
   "cell_type": "code",
   "execution_count": 8,
   "metadata": {},
   "outputs": [],
   "source": [
    "pbi_fish = pbi_fish.astype({'year': 'int32'})"
   ]
  },
  {
   "cell_type": "code",
   "execution_count": 9,
   "metadata": {},
   "outputs": [],
   "source": [
    "pbi_fish[ 'total_production' ] = pbi_fish.iloc[ :, 1:].sum( axis = 1 )"
   ]
  },
  {
   "cell_type": "code",
   "execution_count": 11,
   "metadata": {},
   "outputs": [],
   "source": [
    "pbi_fish.to_csv( r\"C:\\Users\\Anzony\\Documents\\GitHub\\The_Code_Blinders\\data\\production_fish.csv\", index = False )"
   ]
  },
  {
   "cell_type": "code",
   "execution_count": 12,
   "metadata": {},
   "outputs": [],
   "source": [
    "col_names = pbi_fish.columns.to_list()[ 1:-1 ]"
   ]
  },
  {
   "cell_type": "code",
   "execution_count": 13,
   "metadata": {},
   "outputs": [
    {
     "data": {
      "text/plain": [
       "['Consumo Industrial - Anchoveta',\n",
       " 'Consumo Humano - Congelado - Concha de abanico',\n",
       " 'Consumo Humano - Congelado - Langostino',\n",
       " 'Consumo Humano - Congelado - Merluza',\n",
       " 'Consumo Humano - Congelado - Calamar gigante',\n",
       " 'Consumo Humano - Conservas - Atún',\n",
       " 'Consumo Humano - Conservas - Caballa',\n",
       " 'Consumo Humano - Conservas - Jurel',\n",
       " 'Consumo Humano - Conservas - Sardina',\n",
       " 'Consumo Humano - Fresco - Concha de abanico',\n",
       " 'Consumo Humano - Fresco - Jurel',\n",
       " 'Consumo Humano - Fresco - Liza',\n",
       " 'Consumo Humano - Fresco - Tollo']"
      ]
     },
     "execution_count": 13,
     "metadata": {},
     "output_type": "execute_result"
    }
   ],
   "source": [
    "col_names"
   ]
  },
  {
   "cell_type": "code",
   "execution_count": null,
   "metadata": {},
   "outputs": [],
   "source": [
    "pbi_fish[ '%Anchoveta CHI' ] = pbi_fish.iloc[ :, 1 ] * 100 / pbi_fish[ 'total_production' ]"
   ]
  },
  {
   "cell_type": "code",
   "execution_count": 125,
   "metadata": {},
   "outputs": [],
   "source": [
    "for col in col_names:\n",
    "    pbi_fish[ f'%_{col}' ] = pbi_fish[ f'{col}' ] * 100 / pbi_fish[ 'total_production' ]"
   ]
  },
  {
   "cell_type": "code",
   "execution_count": 155,
   "metadata": {},
   "outputs": [],
   "source": [
    "fish_anchoveta = pbi_fish[ [ 'year' , '%_Consumo Industrial - Anchoveta'] ]"
   ]
  },
  {
   "cell_type": "code",
   "execution_count": 156,
   "metadata": {},
   "outputs": [
    {
     "data": {
      "text/html": [
       "<div>\n",
       "<style scoped>\n",
       "    .dataframe tbody tr th:only-of-type {\n",
       "        vertical-align: middle;\n",
       "    }\n",
       "\n",
       "    .dataframe tbody tr th {\n",
       "        vertical-align: top;\n",
       "    }\n",
       "\n",
       "    .dataframe thead th {\n",
       "        text-align: right;\n",
       "    }\n",
       "</style>\n",
       "<table border=\"1\" class=\"dataframe\">\n",
       "  <thead>\n",
       "    <tr style=\"text-align: right;\">\n",
       "      <th></th>\n",
       "      <th>year</th>\n",
       "      <th>%_Consumo Industrial - Anchoveta</th>\n",
       "    </tr>\n",
       "  </thead>\n",
       "  <tbody>\n",
       "    <tr>\n",
       "      <th>26</th>\n",
       "      <td>2005</td>\n",
       "      <td>95.5482</td>\n",
       "    </tr>\n",
       "    <tr>\n",
       "      <th>27</th>\n",
       "      <td>2006</td>\n",
       "      <td>88.6401</td>\n",
       "    </tr>\n",
       "    <tr>\n",
       "      <th>28</th>\n",
       "      <td>2007</td>\n",
       "      <td>89.6016</td>\n",
       "    </tr>\n",
       "    <tr>\n",
       "      <th>29</th>\n",
       "      <td>2008</td>\n",
       "      <td>89.141</td>\n",
       "    </tr>\n",
       "    <tr>\n",
       "      <th>30</th>\n",
       "      <td>2009</td>\n",
       "      <td>91.1439</td>\n",
       "    </tr>\n",
       "    <tr>\n",
       "      <th>31</th>\n",
       "      <td>2010</td>\n",
       "      <td>87.3957</td>\n",
       "    </tr>\n",
       "    <tr>\n",
       "      <th>32</th>\n",
       "      <td>2011</td>\n",
       "      <td>90.6832</td>\n",
       "    </tr>\n",
       "    <tr>\n",
       "      <th>33</th>\n",
       "      <td>2012</td>\n",
       "      <td>84.2659</td>\n",
       "    </tr>\n",
       "    <tr>\n",
       "      <th>34</th>\n",
       "      <td>2013</td>\n",
       "      <td>87.7384</td>\n",
       "    </tr>\n",
       "    <tr>\n",
       "      <th>35</th>\n",
       "      <td>2014</td>\n",
       "      <td>76.9027</td>\n",
       "    </tr>\n",
       "    <tr>\n",
       "      <th>36</th>\n",
       "      <td>2015</td>\n",
       "      <td>86.5531</td>\n",
       "    </tr>\n",
       "    <tr>\n",
       "      <th>37</th>\n",
       "      <td>2016</td>\n",
       "      <td>86.7192</td>\n",
       "    </tr>\n",
       "    <tr>\n",
       "      <th>38</th>\n",
       "      <td>2017</td>\n",
       "      <td>88.4822</td>\n",
       "    </tr>\n",
       "    <tr>\n",
       "      <th>39</th>\n",
       "      <td>2018</td>\n",
       "      <td>92.075</td>\n",
       "    </tr>\n",
       "    <tr>\n",
       "      <th>40</th>\n",
       "      <td>2019</td>\n",
       "      <td>82.0215</td>\n",
       "    </tr>\n",
       "    <tr>\n",
       "      <th>41</th>\n",
       "      <td>2020</td>\n",
       "      <td>87.281</td>\n",
       "    </tr>\n",
       "  </tbody>\n",
       "</table>\n",
       "</div>"
      ],
      "text/plain": [
       "    year %_Consumo Industrial - Anchoveta\n",
       "26  2005                          95.5482\n",
       "27  2006                          88.6401\n",
       "28  2007                          89.6016\n",
       "29  2008                           89.141\n",
       "30  2009                          91.1439\n",
       "31  2010                          87.3957\n",
       "32  2011                          90.6832\n",
       "33  2012                          84.2659\n",
       "34  2013                          87.7384\n",
       "35  2014                          76.9027\n",
       "36  2015                          86.5531\n",
       "37  2016                          86.7192\n",
       "38  2017                          88.4822\n",
       "39  2018                           92.075\n",
       "40  2019                          82.0215\n",
       "41  2020                           87.281"
      ]
     },
     "execution_count": 156,
     "metadata": {},
     "output_type": "execute_result"
    }
   ],
   "source": [
    "fish_anchoveta"
   ]
  },
  {
   "cell_type": "code",
   "execution_count": 165,
   "metadata": {},
   "outputs": [],
   "source": [
    "mean_percentage = fish_anchoveta[ '%_Consumo Industrial - Anchoveta' ].mean()"
   ]
  },
  {
   "cell_type": "code",
   "execution_count": 175,
   "metadata": {},
   "outputs": [],
   "source": [
    "fish_anchoveta.loc[ :,'Mean' ] = mean_percentage"
   ]
  },
  {
   "cell_type": "code",
   "execution_count": 181,
   "metadata": {},
   "outputs": [
    {
     "data": {
      "text/html": [
       "<div>\n",
       "<style scoped>\n",
       "    .dataframe tbody tr th:only-of-type {\n",
       "        vertical-align: middle;\n",
       "    }\n",
       "\n",
       "    .dataframe tbody tr th {\n",
       "        vertical-align: top;\n",
       "    }\n",
       "\n",
       "    .dataframe thead th {\n",
       "        text-align: right;\n",
       "    }\n",
       "</style>\n",
       "<table border=\"1\" class=\"dataframe\">\n",
       "  <thead>\n",
       "    <tr style=\"text-align: right;\">\n",
       "      <th></th>\n",
       "      <th>year</th>\n",
       "      <th>%_Consumo Industrial - Anchoveta</th>\n",
       "      <th>Mean</th>\n",
       "    </tr>\n",
       "  </thead>\n",
       "  <tbody>\n",
       "    <tr>\n",
       "      <th>26</th>\n",
       "      <td>2005</td>\n",
       "      <td>95.5482</td>\n",
       "      <td>87.762045</td>\n",
       "    </tr>\n",
       "    <tr>\n",
       "      <th>27</th>\n",
       "      <td>2006</td>\n",
       "      <td>88.6401</td>\n",
       "      <td>87.762045</td>\n",
       "    </tr>\n",
       "    <tr>\n",
       "      <th>28</th>\n",
       "      <td>2007</td>\n",
       "      <td>89.6016</td>\n",
       "      <td>87.762045</td>\n",
       "    </tr>\n",
       "    <tr>\n",
       "      <th>29</th>\n",
       "      <td>2008</td>\n",
       "      <td>89.141</td>\n",
       "      <td>87.762045</td>\n",
       "    </tr>\n",
       "    <tr>\n",
       "      <th>30</th>\n",
       "      <td>2009</td>\n",
       "      <td>91.1439</td>\n",
       "      <td>87.762045</td>\n",
       "    </tr>\n",
       "    <tr>\n",
       "      <th>31</th>\n",
       "      <td>2010</td>\n",
       "      <td>87.3957</td>\n",
       "      <td>87.762045</td>\n",
       "    </tr>\n",
       "    <tr>\n",
       "      <th>32</th>\n",
       "      <td>2011</td>\n",
       "      <td>90.6832</td>\n",
       "      <td>87.762045</td>\n",
       "    </tr>\n",
       "    <tr>\n",
       "      <th>33</th>\n",
       "      <td>2012</td>\n",
       "      <td>84.2659</td>\n",
       "      <td>87.762045</td>\n",
       "    </tr>\n",
       "    <tr>\n",
       "      <th>34</th>\n",
       "      <td>2013</td>\n",
       "      <td>87.7384</td>\n",
       "      <td>87.762045</td>\n",
       "    </tr>\n",
       "    <tr>\n",
       "      <th>35</th>\n",
       "      <td>2014</td>\n",
       "      <td>76.9027</td>\n",
       "      <td>87.762045</td>\n",
       "    </tr>\n",
       "    <tr>\n",
       "      <th>36</th>\n",
       "      <td>2015</td>\n",
       "      <td>86.5531</td>\n",
       "      <td>87.762045</td>\n",
       "    </tr>\n",
       "    <tr>\n",
       "      <th>37</th>\n",
       "      <td>2016</td>\n",
       "      <td>86.7192</td>\n",
       "      <td>87.762045</td>\n",
       "    </tr>\n",
       "    <tr>\n",
       "      <th>38</th>\n",
       "      <td>2017</td>\n",
       "      <td>88.4822</td>\n",
       "      <td>87.762045</td>\n",
       "    </tr>\n",
       "    <tr>\n",
       "      <th>39</th>\n",
       "      <td>2018</td>\n",
       "      <td>92.075</td>\n",
       "      <td>87.762045</td>\n",
       "    </tr>\n",
       "    <tr>\n",
       "      <th>40</th>\n",
       "      <td>2019</td>\n",
       "      <td>82.0215</td>\n",
       "      <td>87.762045</td>\n",
       "    </tr>\n",
       "    <tr>\n",
       "      <th>41</th>\n",
       "      <td>2020</td>\n",
       "      <td>87.281</td>\n",
       "      <td>87.762045</td>\n",
       "    </tr>\n",
       "  </tbody>\n",
       "</table>\n",
       "</div>"
      ],
      "text/plain": [
       "    year %_Consumo Industrial - Anchoveta       Mean\n",
       "26  2005                          95.5482  87.762045\n",
       "27  2006                          88.6401  87.762045\n",
       "28  2007                          89.6016  87.762045\n",
       "29  2008                           89.141  87.762045\n",
       "30  2009                          91.1439  87.762045\n",
       "31  2010                          87.3957  87.762045\n",
       "32  2011                          90.6832  87.762045\n",
       "33  2012                          84.2659  87.762045\n",
       "34  2013                          87.7384  87.762045\n",
       "35  2014                          76.9027  87.762045\n",
       "36  2015                          86.5531  87.762045\n",
       "37  2016                          86.7192  87.762045\n",
       "38  2017                          88.4822  87.762045\n",
       "39  2018                           92.075  87.762045\n",
       "40  2019                          82.0215  87.762045\n",
       "41  2020                           87.281  87.762045"
      ]
     },
     "execution_count": 181,
     "metadata": {},
     "output_type": "execute_result"
    }
   ],
   "source": [
    "fish_anchoveta"
   ]
  },
  {
   "cell_type": "code",
   "execution_count": 144,
   "metadata": {},
   "outputs": [],
   "source": [
    "import plotly.express as px"
   ]
  },
  {
   "cell_type": "code",
   "execution_count": 186,
   "metadata": {},
   "outputs": [],
   "source": [
    "figure = px.line( fish_anchoveta , x = 'year' , y = '%_Consumo Industrial - Anchoveta' )"
   ]
  },
  {
   "cell_type": "code",
   "execution_count": 188,
   "metadata": {},
   "outputs": [
    {
     "data": {
      "text/plain": [
       "['__class__',\n",
       " '__contains__',\n",
       " '__delattr__',\n",
       " '__dict__',\n",
       " '__dir__',\n",
       " '__doc__',\n",
       " '__eq__',\n",
       " '__format__',\n",
       " '__ge__',\n",
       " '__getattribute__',\n",
       " '__getitem__',\n",
       " '__gt__',\n",
       " '__hash__',\n",
       " '__init__',\n",
       " '__init_subclass__',\n",
       " '__iter__',\n",
       " '__le__',\n",
       " '__lt__',\n",
       " '__module__',\n",
       " '__ne__',\n",
       " '__new__',\n",
       " '__reduce__',\n",
       " '__reduce_ex__',\n",
       " '__repr__',\n",
       " '__setattr__',\n",
       " '__setitem__',\n",
       " '__sizeof__',\n",
       " '__str__',\n",
       " '__subclasshook__',\n",
       " '__weakref__',\n",
       " '_add_annotation_like',\n",
       " '_allow_disable_validation',\n",
       " '_animation_duration_validator',\n",
       " '_animation_easing_validator',\n",
       " '_batch_layout_edits',\n",
       " '_batch_trace_edits',\n",
       " '_bracket_re',\n",
       " '_build_dispatch_plan',\n",
       " '_build_update_params_from_batch',\n",
       " '_config',\n",
       " '_data',\n",
       " '_data_defaults',\n",
       " '_data_objs',\n",
       " '_data_validator',\n",
       " '_dispatch_layout_change_callbacks',\n",
       " '_dispatch_trace_change_callbacks',\n",
       " '_filter_by_selector',\n",
       " '_frame_objs',\n",
       " '_frames_validator',\n",
       " '_get_child_prop_defaults',\n",
       " '_get_child_props',\n",
       " '_get_subplot_coordinates',\n",
       " '_get_subplot_rows_columns',\n",
       " '_grid_ref',\n",
       " '_grid_str',\n",
       " '_has_subplots',\n",
       " '_in_batch_mode',\n",
       " '_index_is',\n",
       " '_init_child_props',\n",
       " '_initialize_layout_template',\n",
       " '_ipython_display_',\n",
       " '_is_dict_list',\n",
       " '_is_key_path_compatible',\n",
       " '_layout',\n",
       " '_layout_defaults',\n",
       " '_layout_obj',\n",
       " '_layout_validator',\n",
       " '_make_axis_spanning_layout_object',\n",
       " '_normalize_trace_indexes',\n",
       " '_perform_batch_animate',\n",
       " '_perform_plotly_relayout',\n",
       " '_perform_plotly_restyle',\n",
       " '_perform_plotly_update',\n",
       " '_perform_select_traces',\n",
       " '_perform_update',\n",
       " '_process_multiple_axis_spanning_shapes',\n",
       " '_px_trendlines',\n",
       " '_raise_invalid_rows_cols',\n",
       " '_relayout_child',\n",
       " '_repr_html_',\n",
       " '_repr_mimebundle_',\n",
       " '_restyle_child',\n",
       " '_select_annotations_like',\n",
       " '_select_layout_subplots_by_prefix',\n",
       " '_select_subplot_coordinates',\n",
       " '_selector_matches',\n",
       " '_send_addTraces_msg',\n",
       " '_send_animate_msg',\n",
       " '_send_deleteTraces_msg',\n",
       " '_send_moveTraces_msg',\n",
       " '_send_relayout_msg',\n",
       " '_send_restyle_msg',\n",
       " '_send_update_msg',\n",
       " '_set_in',\n",
       " '_set_trace_grid_position',\n",
       " '_set_trace_uid',\n",
       " '_str_to_dict_path',\n",
       " '_subplot_not_empty',\n",
       " '_to_ordered_dict',\n",
       " '_valid_underscore_properties',\n",
       " '_validate',\n",
       " '_validate_get_grid_ref',\n",
       " '_validate_rows_cols',\n",
       " 'add_annotation',\n",
       " 'add_area',\n",
       " 'add_bar',\n",
       " 'add_barpolar',\n",
       " 'add_box',\n",
       " 'add_candlestick',\n",
       " 'add_carpet',\n",
       " 'add_choropleth',\n",
       " 'add_choroplethmapbox',\n",
       " 'add_cone',\n",
       " 'add_contour',\n",
       " 'add_contourcarpet',\n",
       " 'add_densitymapbox',\n",
       " 'add_funnel',\n",
       " 'add_funnelarea',\n",
       " 'add_heatmap',\n",
       " 'add_heatmapgl',\n",
       " 'add_histogram',\n",
       " 'add_histogram2d',\n",
       " 'add_histogram2dcontour',\n",
       " 'add_hline',\n",
       " 'add_hrect',\n",
       " 'add_image',\n",
       " 'add_indicator',\n",
       " 'add_isosurface',\n",
       " 'add_layout_image',\n",
       " 'add_mesh3d',\n",
       " 'add_ohlc',\n",
       " 'add_parcats',\n",
       " 'add_parcoords',\n",
       " 'add_pie',\n",
       " 'add_pointcloud',\n",
       " 'add_sankey',\n",
       " 'add_scatter',\n",
       " 'add_scatter3d',\n",
       " 'add_scattercarpet',\n",
       " 'add_scattergeo',\n",
       " 'add_scattergl',\n",
       " 'add_scattermapbox',\n",
       " 'add_scatterpolar',\n",
       " 'add_scatterpolargl',\n",
       " 'add_scatterternary',\n",
       " 'add_shape',\n",
       " 'add_splom',\n",
       " 'add_streamtube',\n",
       " 'add_sunburst',\n",
       " 'add_surface',\n",
       " 'add_table',\n",
       " 'add_trace',\n",
       " 'add_traces',\n",
       " 'add_treemap',\n",
       " 'add_violin',\n",
       " 'add_vline',\n",
       " 'add_volume',\n",
       " 'add_vrect',\n",
       " 'add_waterfall',\n",
       " 'append_trace',\n",
       " 'batch_animate',\n",
       " 'batch_update',\n",
       " 'data',\n",
       " 'for_each_annotation',\n",
       " 'for_each_coloraxis',\n",
       " 'for_each_geo',\n",
       " 'for_each_layout_image',\n",
       " 'for_each_mapbox',\n",
       " 'for_each_polar',\n",
       " 'for_each_scene',\n",
       " 'for_each_shape',\n",
       " 'for_each_ternary',\n",
       " 'for_each_trace',\n",
       " 'for_each_xaxis',\n",
       " 'for_each_yaxis',\n",
       " 'frames',\n",
       " 'full_figure_for_development',\n",
       " 'get_subplot',\n",
       " 'layout',\n",
       " 'plotly_relayout',\n",
       " 'plotly_restyle',\n",
       " 'plotly_update',\n",
       " 'pop',\n",
       " 'print_grid',\n",
       " 'select_annotations',\n",
       " 'select_coloraxes',\n",
       " 'select_geos',\n",
       " 'select_layout_images',\n",
       " 'select_mapboxes',\n",
       " 'select_polars',\n",
       " 'select_scenes',\n",
       " 'select_shapes',\n",
       " 'select_ternaries',\n",
       " 'select_traces',\n",
       " 'select_xaxes',\n",
       " 'select_yaxes',\n",
       " 'set_subplots',\n",
       " 'show',\n",
       " 'to_dict',\n",
       " 'to_html',\n",
       " 'to_image',\n",
       " 'to_json',\n",
       " 'to_ordered_dict',\n",
       " 'to_plotly_json',\n",
       " 'update',\n",
       " 'update_annotations',\n",
       " 'update_coloraxes',\n",
       " 'update_geos',\n",
       " 'update_layout',\n",
       " 'update_layout_images',\n",
       " 'update_mapboxes',\n",
       " 'update_polars',\n",
       " 'update_scenes',\n",
       " 'update_shapes',\n",
       " 'update_ternaries',\n",
       " 'update_traces',\n",
       " 'update_xaxes',\n",
       " 'update_yaxes',\n",
       " 'write_html',\n",
       " 'write_image',\n",
       " 'write_json']"
      ]
     },
     "execution_count": 188,
     "metadata": {},
     "output_type": "execute_result"
    }
   ],
   "source": [
    "dir( figure )"
   ]
  },
  {
   "cell_type": "code",
   "execution_count": null,
   "metadata": {},
   "outputs": [],
   "source": [
    "layout = Layout(\n",
    "    paper_bgcolor='rgba(0,0,0,0)',\n",
    "    plot_bgcolor='rgba(0,0,0,0)'\n",
    ")\n",
    "b"
   ]
  },
  {
   "cell_type": "code",
   "execution_count": null,
   "metadata": {},
   "outputs": [],
   "source": [
    "plot_bgcolor "
   ]
  },
  {
   "cell_type": "code",
   "execution_count": 194,
   "metadata": {
    "scrolled": false
   },
   "outputs": [
    {
     "data": {
      "application/vnd.plotly.v1+json": {
       "config": {
        "plotlyServerURL": "https://plot.ly"
       },
       "data": [
        {
         "hovertemplate": "year=%{x}<br>%_Consumo Industrial - Anchoveta=%{y}<extra></extra>",
         "legendgroup": "",
         "line": {
          "color": "#636efa",
          "dash": "solid"
         },
         "mode": "lines",
         "name": "",
         "orientation": "h",
         "showlegend": false,
         "type": "scatter",
         "x": [
          2005,
          2006,
          2007,
          2008,
          2009,
          2010,
          2011,
          2012,
          2013,
          2014,
          2015,
          2016,
          2017,
          2018,
          2019,
          2020
         ],
         "xaxis": "x",
         "y": [
          95.54818154608515,
          88.6400820349506,
          89.60164930371654,
          89.14097035447494,
          91.14389131338446,
          87.39568824379892,
          90.6831913899172,
          84.26592755584224,
          87.7383852074757,
          76.90273606210764,
          86.5531042199748,
          86.71919853067055,
          88.48216268592749,
          92.07501425915203,
          82.02153477860125,
          87.28100498045164
         ],
         "yaxis": "y"
        }
       ],
       "layout": {
        "geo": {
         "bgcolor": "rgba(0,0,87,0)"
        },
        "legend": {
         "tracegroupgap": 0
        },
        "margin": {
         "t": 60
        },
        "shapes": [
         {
          "type": "line",
          "x0": 0,
          "x1": 1,
          "xref": "x domain",
          "y0": 87.762045,
          "y1": 87.762045,
          "yref": "y"
         },
         {
          "type": "line",
          "x0": 0,
          "x1": 1,
          "xref": "x domain",
          "y0": 87.762045,
          "y1": 87.762045,
          "yref": "y"
         },
         {
          "type": "line",
          "x0": 0,
          "x1": 1,
          "xref": "x domain",
          "y0": 87.762045,
          "y1": 87.762045,
          "yref": "y"
         },
         {
          "type": "line",
          "x0": 0,
          "x1": 1,
          "xref": "x domain",
          "y0": 87.762045,
          "y1": 87.762045,
          "yref": "y"
         }
        ],
        "template": {
         "data": {
          "bar": [
           {
            "error_x": {
             "color": "#2a3f5f"
            },
            "error_y": {
             "color": "#2a3f5f"
            },
            "marker": {
             "line": {
              "color": "#E5ECF6",
              "width": 0.5
             }
            },
            "type": "bar"
           }
          ],
          "barpolar": [
           {
            "marker": {
             "line": {
              "color": "#E5ECF6",
              "width": 0.5
             }
            },
            "type": "barpolar"
           }
          ],
          "carpet": [
           {
            "aaxis": {
             "endlinecolor": "#2a3f5f",
             "gridcolor": "white",
             "linecolor": "white",
             "minorgridcolor": "white",
             "startlinecolor": "#2a3f5f"
            },
            "baxis": {
             "endlinecolor": "#2a3f5f",
             "gridcolor": "white",
             "linecolor": "white",
             "minorgridcolor": "white",
             "startlinecolor": "#2a3f5f"
            },
            "type": "carpet"
           }
          ],
          "choropleth": [
           {
            "colorbar": {
             "outlinewidth": 0,
             "ticks": ""
            },
            "type": "choropleth"
           }
          ],
          "contour": [
           {
            "colorbar": {
             "outlinewidth": 0,
             "ticks": ""
            },
            "colorscale": [
             [
              0,
              "#0d0887"
             ],
             [
              0.1111111111111111,
              "#46039f"
             ],
             [
              0.2222222222222222,
              "#7201a8"
             ],
             [
              0.3333333333333333,
              "#9c179e"
             ],
             [
              0.4444444444444444,
              "#bd3786"
             ],
             [
              0.5555555555555556,
              "#d8576b"
             ],
             [
              0.6666666666666666,
              "#ed7953"
             ],
             [
              0.7777777777777778,
              "#fb9f3a"
             ],
             [
              0.8888888888888888,
              "#fdca26"
             ],
             [
              1,
              "#f0f921"
             ]
            ],
            "type": "contour"
           }
          ],
          "contourcarpet": [
           {
            "colorbar": {
             "outlinewidth": 0,
             "ticks": ""
            },
            "type": "contourcarpet"
           }
          ],
          "heatmap": [
           {
            "colorbar": {
             "outlinewidth": 0,
             "ticks": ""
            },
            "colorscale": [
             [
              0,
              "#0d0887"
             ],
             [
              0.1111111111111111,
              "#46039f"
             ],
             [
              0.2222222222222222,
              "#7201a8"
             ],
             [
              0.3333333333333333,
              "#9c179e"
             ],
             [
              0.4444444444444444,
              "#bd3786"
             ],
             [
              0.5555555555555556,
              "#d8576b"
             ],
             [
              0.6666666666666666,
              "#ed7953"
             ],
             [
              0.7777777777777778,
              "#fb9f3a"
             ],
             [
              0.8888888888888888,
              "#fdca26"
             ],
             [
              1,
              "#f0f921"
             ]
            ],
            "type": "heatmap"
           }
          ],
          "heatmapgl": [
           {
            "colorbar": {
             "outlinewidth": 0,
             "ticks": ""
            },
            "colorscale": [
             [
              0,
              "#0d0887"
             ],
             [
              0.1111111111111111,
              "#46039f"
             ],
             [
              0.2222222222222222,
              "#7201a8"
             ],
             [
              0.3333333333333333,
              "#9c179e"
             ],
             [
              0.4444444444444444,
              "#bd3786"
             ],
             [
              0.5555555555555556,
              "#d8576b"
             ],
             [
              0.6666666666666666,
              "#ed7953"
             ],
             [
              0.7777777777777778,
              "#fb9f3a"
             ],
             [
              0.8888888888888888,
              "#fdca26"
             ],
             [
              1,
              "#f0f921"
             ]
            ],
            "type": "heatmapgl"
           }
          ],
          "histogram": [
           {
            "marker": {
             "colorbar": {
              "outlinewidth": 0,
              "ticks": ""
             }
            },
            "type": "histogram"
           }
          ],
          "histogram2d": [
           {
            "colorbar": {
             "outlinewidth": 0,
             "ticks": ""
            },
            "colorscale": [
             [
              0,
              "#0d0887"
             ],
             [
              0.1111111111111111,
              "#46039f"
             ],
             [
              0.2222222222222222,
              "#7201a8"
             ],
             [
              0.3333333333333333,
              "#9c179e"
             ],
             [
              0.4444444444444444,
              "#bd3786"
             ],
             [
              0.5555555555555556,
              "#d8576b"
             ],
             [
              0.6666666666666666,
              "#ed7953"
             ],
             [
              0.7777777777777778,
              "#fb9f3a"
             ],
             [
              0.8888888888888888,
              "#fdca26"
             ],
             [
              1,
              "#f0f921"
             ]
            ],
            "type": "histogram2d"
           }
          ],
          "histogram2dcontour": [
           {
            "colorbar": {
             "outlinewidth": 0,
             "ticks": ""
            },
            "colorscale": [
             [
              0,
              "#0d0887"
             ],
             [
              0.1111111111111111,
              "#46039f"
             ],
             [
              0.2222222222222222,
              "#7201a8"
             ],
             [
              0.3333333333333333,
              "#9c179e"
             ],
             [
              0.4444444444444444,
              "#bd3786"
             ],
             [
              0.5555555555555556,
              "#d8576b"
             ],
             [
              0.6666666666666666,
              "#ed7953"
             ],
             [
              0.7777777777777778,
              "#fb9f3a"
             ],
             [
              0.8888888888888888,
              "#fdca26"
             ],
             [
              1,
              "#f0f921"
             ]
            ],
            "type": "histogram2dcontour"
           }
          ],
          "mesh3d": [
           {
            "colorbar": {
             "outlinewidth": 0,
             "ticks": ""
            },
            "type": "mesh3d"
           }
          ],
          "parcoords": [
           {
            "line": {
             "colorbar": {
              "outlinewidth": 0,
              "ticks": ""
             }
            },
            "type": "parcoords"
           }
          ],
          "pie": [
           {
            "automargin": true,
            "type": "pie"
           }
          ],
          "scatter": [
           {
            "marker": {
             "colorbar": {
              "outlinewidth": 0,
              "ticks": ""
             }
            },
            "type": "scatter"
           }
          ],
          "scatter3d": [
           {
            "line": {
             "colorbar": {
              "outlinewidth": 0,
              "ticks": ""
             }
            },
            "marker": {
             "colorbar": {
              "outlinewidth": 0,
              "ticks": ""
             }
            },
            "type": "scatter3d"
           }
          ],
          "scattercarpet": [
           {
            "marker": {
             "colorbar": {
              "outlinewidth": 0,
              "ticks": ""
             }
            },
            "type": "scattercarpet"
           }
          ],
          "scattergeo": [
           {
            "marker": {
             "colorbar": {
              "outlinewidth": 0,
              "ticks": ""
             }
            },
            "type": "scattergeo"
           }
          ],
          "scattergl": [
           {
            "marker": {
             "colorbar": {
              "outlinewidth": 0,
              "ticks": ""
             }
            },
            "type": "scattergl"
           }
          ],
          "scattermapbox": [
           {
            "marker": {
             "colorbar": {
              "outlinewidth": 0,
              "ticks": ""
             }
            },
            "type": "scattermapbox"
           }
          ],
          "scatterpolar": [
           {
            "marker": {
             "colorbar": {
              "outlinewidth": 0,
              "ticks": ""
             }
            },
            "type": "scatterpolar"
           }
          ],
          "scatterpolargl": [
           {
            "marker": {
             "colorbar": {
              "outlinewidth": 0,
              "ticks": ""
             }
            },
            "type": "scatterpolargl"
           }
          ],
          "scatterternary": [
           {
            "marker": {
             "colorbar": {
              "outlinewidth": 0,
              "ticks": ""
             }
            },
            "type": "scatterternary"
           }
          ],
          "surface": [
           {
            "colorbar": {
             "outlinewidth": 0,
             "ticks": ""
            },
            "colorscale": [
             [
              0,
              "#0d0887"
             ],
             [
              0.1111111111111111,
              "#46039f"
             ],
             [
              0.2222222222222222,
              "#7201a8"
             ],
             [
              0.3333333333333333,
              "#9c179e"
             ],
             [
              0.4444444444444444,
              "#bd3786"
             ],
             [
              0.5555555555555556,
              "#d8576b"
             ],
             [
              0.6666666666666666,
              "#ed7953"
             ],
             [
              0.7777777777777778,
              "#fb9f3a"
             ],
             [
              0.8888888888888888,
              "#fdca26"
             ],
             [
              1,
              "#f0f921"
             ]
            ],
            "type": "surface"
           }
          ],
          "table": [
           {
            "cells": {
             "fill": {
              "color": "#EBF0F8"
             },
             "line": {
              "color": "white"
             }
            },
            "header": {
             "fill": {
              "color": "#C8D4E3"
             },
             "line": {
              "color": "white"
             }
            },
            "type": "table"
           }
          ]
         },
         "layout": {
          "annotationdefaults": {
           "arrowcolor": "#2a3f5f",
           "arrowhead": 0,
           "arrowwidth": 1
          },
          "autotypenumbers": "strict",
          "coloraxis": {
           "colorbar": {
            "outlinewidth": 0,
            "ticks": ""
           }
          },
          "colorscale": {
           "diverging": [
            [
             0,
             "#8e0152"
            ],
            [
             0.1,
             "#c51b7d"
            ],
            [
             0.2,
             "#de77ae"
            ],
            [
             0.3,
             "#f1b6da"
            ],
            [
             0.4,
             "#fde0ef"
            ],
            [
             0.5,
             "#f7f7f7"
            ],
            [
             0.6,
             "#e6f5d0"
            ],
            [
             0.7,
             "#b8e186"
            ],
            [
             0.8,
             "#7fbc41"
            ],
            [
             0.9,
             "#4d9221"
            ],
            [
             1,
             "#276419"
            ]
           ],
           "sequential": [
            [
             0,
             "#0d0887"
            ],
            [
             0.1111111111111111,
             "#46039f"
            ],
            [
             0.2222222222222222,
             "#7201a8"
            ],
            [
             0.3333333333333333,
             "#9c179e"
            ],
            [
             0.4444444444444444,
             "#bd3786"
            ],
            [
             0.5555555555555556,
             "#d8576b"
            ],
            [
             0.6666666666666666,
             "#ed7953"
            ],
            [
             0.7777777777777778,
             "#fb9f3a"
            ],
            [
             0.8888888888888888,
             "#fdca26"
            ],
            [
             1,
             "#f0f921"
            ]
           ],
           "sequentialminus": [
            [
             0,
             "#0d0887"
            ],
            [
             0.1111111111111111,
             "#46039f"
            ],
            [
             0.2222222222222222,
             "#7201a8"
            ],
            [
             0.3333333333333333,
             "#9c179e"
            ],
            [
             0.4444444444444444,
             "#bd3786"
            ],
            [
             0.5555555555555556,
             "#d8576b"
            ],
            [
             0.6666666666666666,
             "#ed7953"
            ],
            [
             0.7777777777777778,
             "#fb9f3a"
            ],
            [
             0.8888888888888888,
             "#fdca26"
            ],
            [
             1,
             "#f0f921"
            ]
           ]
          },
          "colorway": [
           "#636efa",
           "#EF553B",
           "#00cc96",
           "#ab63fa",
           "#FFA15A",
           "#19d3f3",
           "#FF6692",
           "#B6E880",
           "#FF97FF",
           "#FECB52"
          ],
          "font": {
           "color": "#2a3f5f"
          },
          "geo": {
           "bgcolor": "white",
           "lakecolor": "white",
           "landcolor": "#E5ECF6",
           "showlakes": true,
           "showland": true,
           "subunitcolor": "white"
          },
          "hoverlabel": {
           "align": "left"
          },
          "hovermode": "closest",
          "mapbox": {
           "style": "light"
          },
          "paper_bgcolor": "white",
          "plot_bgcolor": "#E5ECF6",
          "polar": {
           "angularaxis": {
            "gridcolor": "white",
            "linecolor": "white",
            "ticks": ""
           },
           "bgcolor": "#E5ECF6",
           "radialaxis": {
            "gridcolor": "white",
            "linecolor": "white",
            "ticks": ""
           }
          },
          "scene": {
           "xaxis": {
            "backgroundcolor": "#E5ECF6",
            "gridcolor": "white",
            "gridwidth": 2,
            "linecolor": "white",
            "showbackground": true,
            "ticks": "",
            "zerolinecolor": "white"
           },
           "yaxis": {
            "backgroundcolor": "#E5ECF6",
            "gridcolor": "white",
            "gridwidth": 2,
            "linecolor": "white",
            "showbackground": true,
            "ticks": "",
            "zerolinecolor": "white"
           },
           "zaxis": {
            "backgroundcolor": "#E5ECF6",
            "gridcolor": "white",
            "gridwidth": 2,
            "linecolor": "white",
            "showbackground": true,
            "ticks": "",
            "zerolinecolor": "white"
           }
          },
          "shapedefaults": {
           "line": {
            "color": "#2a3f5f"
           }
          },
          "ternary": {
           "aaxis": {
            "gridcolor": "white",
            "linecolor": "white",
            "ticks": ""
           },
           "baxis": {
            "gridcolor": "white",
            "linecolor": "white",
            "ticks": ""
           },
           "bgcolor": "#E5ECF6",
           "caxis": {
            "gridcolor": "white",
            "linecolor": "white",
            "ticks": ""
           }
          },
          "title": {
           "x": 0.05
          },
          "xaxis": {
           "automargin": true,
           "gridcolor": "white",
           "linecolor": "white",
           "ticks": "",
           "title": {
            "standoff": 15
           },
           "zerolinecolor": "white",
           "zerolinewidth": 2
          },
          "yaxis": {
           "automargin": true,
           "gridcolor": "white",
           "linecolor": "white",
           "ticks": "",
           "title": {
            "standoff": 15
           },
           "zerolinecolor": "white",
           "zerolinewidth": 2
          }
         }
        },
        "xaxis": {
         "anchor": "y",
         "domain": [
          0,
          1
         ],
         "title": {
          "text": "year"
         }
        },
        "yaxis": {
         "anchor": "x",
         "domain": [
          0,
          1
         ],
         "title": {
          "text": "%_Consumo Industrial - Anchoveta"
         }
        }
       }
      },
      "text/html": [
       "<div>                            <div id=\"c0b62d1b-8edc-4260-84c3-2c8c021ae1cc\" class=\"plotly-graph-div\" style=\"height:525px; width:100%;\"></div>            <script type=\"text/javascript\">                require([\"plotly\"], function(Plotly) {                    window.PLOTLYENV=window.PLOTLYENV || {};                                    if (document.getElementById(\"c0b62d1b-8edc-4260-84c3-2c8c021ae1cc\")) {                    Plotly.newPlot(                        \"c0b62d1b-8edc-4260-84c3-2c8c021ae1cc\",                        [{\"hovertemplate\": \"year=%{x}<br>%_Consumo Industrial - Anchoveta=%{y}<extra></extra>\", \"legendgroup\": \"\", \"line\": {\"color\": \"#636efa\", \"dash\": \"solid\"}, \"mode\": \"lines\", \"name\": \"\", \"orientation\": \"h\", \"showlegend\": false, \"type\": \"scatter\", \"x\": [2005, 2006, 2007, 2008, 2009, 2010, 2011, 2012, 2013, 2014, 2015, 2016, 2017, 2018, 2019, 2020], \"xaxis\": \"x\", \"y\": [95.54818154608515, 88.6400820349506, 89.60164930371654, 89.14097035447494, 91.14389131338446, 87.39568824379892, 90.6831913899172, 84.26592755584224, 87.7383852074757, 76.90273606210764, 86.5531042199748, 86.71919853067055, 88.48216268592749, 92.07501425915203, 82.02153477860125, 87.28100498045164], \"yaxis\": \"y\"}],                        {\"geo\": {\"bgcolor\": \"rgba(0,0,87,0)\"}, \"legend\": {\"tracegroupgap\": 0}, \"margin\": {\"t\": 60}, \"shapes\": [{\"type\": \"line\", \"x0\": 0, \"x1\": 1, \"xref\": \"x domain\", \"y0\": 87.762045, \"y1\": 87.762045, \"yref\": \"y\"}, {\"type\": \"line\", \"x0\": 0, \"x1\": 1, \"xref\": \"x domain\", \"y0\": 87.762045, \"y1\": 87.762045, \"yref\": \"y\"}, {\"type\": \"line\", \"x0\": 0, \"x1\": 1, \"xref\": \"x domain\", \"y0\": 87.762045, \"y1\": 87.762045, \"yref\": \"y\"}, {\"type\": \"line\", \"x0\": 0, \"x1\": 1, \"xref\": \"x domain\", \"y0\": 87.762045, \"y1\": 87.762045, \"yref\": \"y\"}], \"template\": {\"data\": {\"bar\": [{\"error_x\": {\"color\": \"#2a3f5f\"}, \"error_y\": {\"color\": \"#2a3f5f\"}, \"marker\": {\"line\": {\"color\": \"#E5ECF6\", \"width\": 0.5}}, \"type\": \"bar\"}], \"barpolar\": [{\"marker\": {\"line\": {\"color\": \"#E5ECF6\", \"width\": 0.5}}, \"type\": \"barpolar\"}], \"carpet\": [{\"aaxis\": {\"endlinecolor\": \"#2a3f5f\", \"gridcolor\": \"white\", \"linecolor\": \"white\", \"minorgridcolor\": \"white\", \"startlinecolor\": \"#2a3f5f\"}, \"baxis\": {\"endlinecolor\": \"#2a3f5f\", \"gridcolor\": \"white\", \"linecolor\": \"white\", \"minorgridcolor\": \"white\", \"startlinecolor\": \"#2a3f5f\"}, \"type\": \"carpet\"}], \"choropleth\": [{\"colorbar\": {\"outlinewidth\": 0, \"ticks\": \"\"}, \"type\": \"choropleth\"}], \"contour\": [{\"colorbar\": {\"outlinewidth\": 0, \"ticks\": \"\"}, \"colorscale\": [[0.0, \"#0d0887\"], [0.1111111111111111, \"#46039f\"], [0.2222222222222222, \"#7201a8\"], [0.3333333333333333, \"#9c179e\"], [0.4444444444444444, \"#bd3786\"], [0.5555555555555556, \"#d8576b\"], [0.6666666666666666, \"#ed7953\"], [0.7777777777777778, \"#fb9f3a\"], [0.8888888888888888, \"#fdca26\"], [1.0, \"#f0f921\"]], \"type\": \"contour\"}], \"contourcarpet\": [{\"colorbar\": {\"outlinewidth\": 0, \"ticks\": \"\"}, \"type\": \"contourcarpet\"}], \"heatmap\": [{\"colorbar\": {\"outlinewidth\": 0, \"ticks\": \"\"}, \"colorscale\": [[0.0, \"#0d0887\"], [0.1111111111111111, \"#46039f\"], [0.2222222222222222, \"#7201a8\"], [0.3333333333333333, \"#9c179e\"], [0.4444444444444444, \"#bd3786\"], [0.5555555555555556, \"#d8576b\"], [0.6666666666666666, \"#ed7953\"], [0.7777777777777778, \"#fb9f3a\"], [0.8888888888888888, \"#fdca26\"], [1.0, \"#f0f921\"]], \"type\": \"heatmap\"}], \"heatmapgl\": [{\"colorbar\": {\"outlinewidth\": 0, \"ticks\": \"\"}, \"colorscale\": [[0.0, \"#0d0887\"], [0.1111111111111111, \"#46039f\"], [0.2222222222222222, \"#7201a8\"], [0.3333333333333333, \"#9c179e\"], [0.4444444444444444, \"#bd3786\"], [0.5555555555555556, \"#d8576b\"], [0.6666666666666666, \"#ed7953\"], [0.7777777777777778, \"#fb9f3a\"], [0.8888888888888888, \"#fdca26\"], [1.0, \"#f0f921\"]], \"type\": \"heatmapgl\"}], \"histogram\": [{\"marker\": {\"colorbar\": {\"outlinewidth\": 0, \"ticks\": \"\"}}, \"type\": \"histogram\"}], \"histogram2d\": [{\"colorbar\": {\"outlinewidth\": 0, \"ticks\": \"\"}, \"colorscale\": [[0.0, \"#0d0887\"], [0.1111111111111111, \"#46039f\"], [0.2222222222222222, \"#7201a8\"], [0.3333333333333333, \"#9c179e\"], [0.4444444444444444, \"#bd3786\"], [0.5555555555555556, \"#d8576b\"], [0.6666666666666666, \"#ed7953\"], [0.7777777777777778, \"#fb9f3a\"], [0.8888888888888888, \"#fdca26\"], [1.0, \"#f0f921\"]], \"type\": \"histogram2d\"}], \"histogram2dcontour\": [{\"colorbar\": {\"outlinewidth\": 0, \"ticks\": \"\"}, \"colorscale\": [[0.0, \"#0d0887\"], [0.1111111111111111, \"#46039f\"], [0.2222222222222222, \"#7201a8\"], [0.3333333333333333, \"#9c179e\"], [0.4444444444444444, \"#bd3786\"], [0.5555555555555556, \"#d8576b\"], [0.6666666666666666, \"#ed7953\"], [0.7777777777777778, \"#fb9f3a\"], [0.8888888888888888, \"#fdca26\"], [1.0, \"#f0f921\"]], \"type\": \"histogram2dcontour\"}], \"mesh3d\": [{\"colorbar\": {\"outlinewidth\": 0, \"ticks\": \"\"}, \"type\": \"mesh3d\"}], \"parcoords\": [{\"line\": {\"colorbar\": {\"outlinewidth\": 0, \"ticks\": \"\"}}, \"type\": \"parcoords\"}], \"pie\": [{\"automargin\": true, \"type\": \"pie\"}], \"scatter\": [{\"marker\": {\"colorbar\": {\"outlinewidth\": 0, \"ticks\": \"\"}}, \"type\": \"scatter\"}], \"scatter3d\": [{\"line\": {\"colorbar\": {\"outlinewidth\": 0, \"ticks\": \"\"}}, \"marker\": {\"colorbar\": {\"outlinewidth\": 0, \"ticks\": \"\"}}, \"type\": \"scatter3d\"}], \"scattercarpet\": [{\"marker\": {\"colorbar\": {\"outlinewidth\": 0, \"ticks\": \"\"}}, \"type\": \"scattercarpet\"}], \"scattergeo\": [{\"marker\": {\"colorbar\": {\"outlinewidth\": 0, \"ticks\": \"\"}}, \"type\": \"scattergeo\"}], \"scattergl\": [{\"marker\": {\"colorbar\": {\"outlinewidth\": 0, \"ticks\": \"\"}}, \"type\": \"scattergl\"}], \"scattermapbox\": [{\"marker\": {\"colorbar\": {\"outlinewidth\": 0, \"ticks\": \"\"}}, \"type\": \"scattermapbox\"}], \"scatterpolar\": [{\"marker\": {\"colorbar\": {\"outlinewidth\": 0, \"ticks\": \"\"}}, \"type\": \"scatterpolar\"}], \"scatterpolargl\": [{\"marker\": {\"colorbar\": {\"outlinewidth\": 0, \"ticks\": \"\"}}, \"type\": \"scatterpolargl\"}], \"scatterternary\": [{\"marker\": {\"colorbar\": {\"outlinewidth\": 0, \"ticks\": \"\"}}, \"type\": \"scatterternary\"}], \"surface\": [{\"colorbar\": {\"outlinewidth\": 0, \"ticks\": \"\"}, \"colorscale\": [[0.0, \"#0d0887\"], [0.1111111111111111, \"#46039f\"], [0.2222222222222222, \"#7201a8\"], [0.3333333333333333, \"#9c179e\"], [0.4444444444444444, \"#bd3786\"], [0.5555555555555556, \"#d8576b\"], [0.6666666666666666, \"#ed7953\"], [0.7777777777777778, \"#fb9f3a\"], [0.8888888888888888, \"#fdca26\"], [1.0, \"#f0f921\"]], \"type\": \"surface\"}], \"table\": [{\"cells\": {\"fill\": {\"color\": \"#EBF0F8\"}, \"line\": {\"color\": \"white\"}}, \"header\": {\"fill\": {\"color\": \"#C8D4E3\"}, \"line\": {\"color\": \"white\"}}, \"type\": \"table\"}]}, \"layout\": {\"annotationdefaults\": {\"arrowcolor\": \"#2a3f5f\", \"arrowhead\": 0, \"arrowwidth\": 1}, \"autotypenumbers\": \"strict\", \"coloraxis\": {\"colorbar\": {\"outlinewidth\": 0, \"ticks\": \"\"}}, \"colorscale\": {\"diverging\": [[0, \"#8e0152\"], [0.1, \"#c51b7d\"], [0.2, \"#de77ae\"], [0.3, \"#f1b6da\"], [0.4, \"#fde0ef\"], [0.5, \"#f7f7f7\"], [0.6, \"#e6f5d0\"], [0.7, \"#b8e186\"], [0.8, \"#7fbc41\"], [0.9, \"#4d9221\"], [1, \"#276419\"]], \"sequential\": [[0.0, \"#0d0887\"], [0.1111111111111111, \"#46039f\"], [0.2222222222222222, \"#7201a8\"], [0.3333333333333333, \"#9c179e\"], [0.4444444444444444, \"#bd3786\"], [0.5555555555555556, \"#d8576b\"], [0.6666666666666666, \"#ed7953\"], [0.7777777777777778, \"#fb9f3a\"], [0.8888888888888888, \"#fdca26\"], [1.0, \"#f0f921\"]], \"sequentialminus\": [[0.0, \"#0d0887\"], [0.1111111111111111, \"#46039f\"], [0.2222222222222222, \"#7201a8\"], [0.3333333333333333, \"#9c179e\"], [0.4444444444444444, \"#bd3786\"], [0.5555555555555556, \"#d8576b\"], [0.6666666666666666, \"#ed7953\"], [0.7777777777777778, \"#fb9f3a\"], [0.8888888888888888, \"#fdca26\"], [1.0, \"#f0f921\"]]}, \"colorway\": [\"#636efa\", \"#EF553B\", \"#00cc96\", \"#ab63fa\", \"#FFA15A\", \"#19d3f3\", \"#FF6692\", \"#B6E880\", \"#FF97FF\", \"#FECB52\"], \"font\": {\"color\": \"#2a3f5f\"}, \"geo\": {\"bgcolor\": \"white\", \"lakecolor\": \"white\", \"landcolor\": \"#E5ECF6\", \"showlakes\": true, \"showland\": true, \"subunitcolor\": \"white\"}, \"hoverlabel\": {\"align\": \"left\"}, \"hovermode\": \"closest\", \"mapbox\": {\"style\": \"light\"}, \"paper_bgcolor\": \"white\", \"plot_bgcolor\": \"#E5ECF6\", \"polar\": {\"angularaxis\": {\"gridcolor\": \"white\", \"linecolor\": \"white\", \"ticks\": \"\"}, \"bgcolor\": \"#E5ECF6\", \"radialaxis\": {\"gridcolor\": \"white\", \"linecolor\": \"white\", \"ticks\": \"\"}}, \"scene\": {\"xaxis\": {\"backgroundcolor\": \"#E5ECF6\", \"gridcolor\": \"white\", \"gridwidth\": 2, \"linecolor\": \"white\", \"showbackground\": true, \"ticks\": \"\", \"zerolinecolor\": \"white\"}, \"yaxis\": {\"backgroundcolor\": \"#E5ECF6\", \"gridcolor\": \"white\", \"gridwidth\": 2, \"linecolor\": \"white\", \"showbackground\": true, \"ticks\": \"\", \"zerolinecolor\": \"white\"}, \"zaxis\": {\"backgroundcolor\": \"#E5ECF6\", \"gridcolor\": \"white\", \"gridwidth\": 2, \"linecolor\": \"white\", \"showbackground\": true, \"ticks\": \"\", \"zerolinecolor\": \"white\"}}, \"shapedefaults\": {\"line\": {\"color\": \"#2a3f5f\"}}, \"ternary\": {\"aaxis\": {\"gridcolor\": \"white\", \"linecolor\": \"white\", \"ticks\": \"\"}, \"baxis\": {\"gridcolor\": \"white\", \"linecolor\": \"white\", \"ticks\": \"\"}, \"bgcolor\": \"#E5ECF6\", \"caxis\": {\"gridcolor\": \"white\", \"linecolor\": \"white\", \"ticks\": \"\"}}, \"title\": {\"x\": 0.05}, \"xaxis\": {\"automargin\": true, \"gridcolor\": \"white\", \"linecolor\": \"white\", \"ticks\": \"\", \"title\": {\"standoff\": 15}, \"zerolinecolor\": \"white\", \"zerolinewidth\": 2}, \"yaxis\": {\"automargin\": true, \"gridcolor\": \"white\", \"linecolor\": \"white\", \"ticks\": \"\", \"title\": {\"standoff\": 15}, \"zerolinecolor\": \"white\", \"zerolinewidth\": 2}}}, \"xaxis\": {\"anchor\": \"y\", \"domain\": [0.0, 1.0], \"title\": {\"text\": \"year\"}}, \"yaxis\": {\"anchor\": \"x\", \"domain\": [0.0, 1.0], \"title\": {\"text\": \"%_Consumo Industrial - Anchoveta\"}}},                        {\"responsive\": true}                    ).then(function(){\n",
       "                            \n",
       "var gd = document.getElementById('c0b62d1b-8edc-4260-84c3-2c8c021ae1cc');\n",
       "var x = new MutationObserver(function (mutations, observer) {{\n",
       "        var display = window.getComputedStyle(gd).display;\n",
       "        if (!display || display === 'none') {{\n",
       "            console.log([gd, 'removed!']);\n",
       "            Plotly.purge(gd);\n",
       "            observer.disconnect();\n",
       "        }}\n",
       "}});\n",
       "\n",
       "// Listen for the removal of the full notebook cells\n",
       "var notebookContainer = gd.closest('#notebook-container');\n",
       "if (notebookContainer) {{\n",
       "    x.observe(notebookContainer, {childList: true});\n",
       "}}\n",
       "\n",
       "// Listen for the clearing of the current output cell\n",
       "var outputEl = gd.closest('.output');\n",
       "if (outputEl) {{\n",
       "    x.observe(outputEl, {childList: true});\n",
       "}}\n",
       "\n",
       "                        })                };                });            </script>        </div>"
      ]
     },
     "metadata": {},
     "output_type": "display_data"
    }
   ],
   "source": [
    "figure.add_hline(y = 87.762045)\n",
    "figure.show()"
   ]
  }
 ],
 "metadata": {
  "hide_input": false,
  "kernelspec": {
   "display_name": "Python 3",
   "language": "python",
   "name": "python3"
  },
  "language_info": {
   "codemirror_mode": {
    "name": "ipython",
    "version": 3
   },
   "file_extension": ".py",
   "mimetype": "text/x-python",
   "name": "python",
   "nbconvert_exporter": "python",
   "pygments_lexer": "ipython3",
   "version": "3.8.6"
  }
 },
 "nbformat": 4,
 "nbformat_minor": 4
}
